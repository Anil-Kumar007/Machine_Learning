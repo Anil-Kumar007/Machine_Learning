{
 "cells": [
  {
   "cell_type": "markdown",
   "id": "dc619936-fc3b-4098-97b0-ec25c996d429",
   "metadata": {},
   "source": [
    "# Regression"
   ]
  },
  {
   "cell_type": "markdown",
   "id": "3d61a613-ecf2-4f04-9685-63ba107c8821",
   "metadata": {},
   "source": [
    "## Question 1: What is Simple Linear Regression?\n",
    "Simple Linear Regression (SLR) is a statistical method used to model the relationship between two variables by fitting a linear equation to observed data. It involves:\n",
    "\n",
    "* One independent (predictor) variable (X)\n",
    "* One dependent (response) variable (Y)\n",
    "\n",
    "The goal is to find the best-fit straight line that predicts Y based on X.\n",
    "\n",
    "-------------------------------------------------------------------------------------\n",
    "Key Components\n",
    "* 1. Equation of the Line:\n",
    "   - Y =β0 + β1X + ϵ\n",
    "\n",
    "     * Y: Dependent variable (output).\n",
    "     * X: Independent variable (input).\n",
    "     * β0: Intercept (value of Y when X = 0)\n",
    "     * β1: Slope (change in Y per unit change in X).\n",
    "     * ϵ: Random error (residual).\n",
    "       \n",
    "* 2. Assumptions\n",
    "     * Linear relationship between X and Y.\n",
    "     * Errors are normally distributed with mean 0.\n",
    "     * Homoscedasticity (constant variance of errors).\n",
    "     * No multicollinearity (only one predictor).\n",
    "\n",
    "* 3. Fitting the Model:\n",
    "     The least squares method minimizes the sum of squared residuals to estimate β0 and β1.\n",
    "-----------------------------------------------------------------------------------------------\n",
    "Example:\n",
    "Predicting a person's weight (Y) based on their height (X).\n",
    "* if β1 = 0.5, for every 1 cm increase in height, weight increases by 0.5 kg."
   ]
  },
  {
   "cell_type": "markdown",
   "id": "2ee7e585-ab5d-4639-97bd-dadb258fa2dc",
   "metadata": {},
   "source": [
    "## Question 2: What are the key assumptions of Simple Linear Regression\n",
    "* key assumptions of Simple Linear Regression\n",
    "     * Linear relationship between X and Y.\n",
    "     * Errors are normally distributed with mean 0.\n",
    "     * Homoscedasticity (constant variance of errors).\n",
    "     * No multicollinearity (only one predictor)."
   ]
  },
  {
   "cell_type": "markdown",
   "id": "c9d7c610-db98-4c99-92eb-0c756028885a",
   "metadata": {},
   "source": [
    "## Question 3: What is heteroscedasticity, and why is it important to address in regression models?\n",
    "* Heteroscedasticity (also spelled heteroskedasticity) occurs in regression models when the variance of the residuals (errors) is not constant across all levels of the independent variable(s).\n",
    "\n",
    "    1. Visually: The spread of data points around the regression line \"fans out\" or varies systematically (e.g., larger errors as X increases).\n",
    "    2. Opposite: Homoscedasticity (constant variance of residuals is ideal for regression)."
   ]
  },
  {
   "cell_type": "markdown",
   "id": "fced729a-6b89-4b17-89c2-334b720e9c9a",
   "metadata": {},
   "source": [
    "## Question 4: What is Multiple Linear Regression?\n",
    "Multiple Linear Regression (MLR) extends Simple Linear Regression by modeling the relationship between one dependent variable (Y) \n",
    "and two or more independent variables (X₁, X₂, ..., Xₚ). \n",
    "The goal is to predict the outcome (Y) based on multiple predictors while accounting for their individual and combined effects.\n",
    "\n",
    "Key Equation\n",
    "\n",
    "--------------\n",
    "The MLR model is represented as:\n",
    "\n",
    "    Y = β0 + β1X1 + β2X2 + ⋯ + βpXp +ϵ\n",
    "\n",
    "    Y: Dependent (response) variable.\n",
    "    \n",
    "    X1 ,X2, … , Xp : Independent (predictor) variables.\n",
    "    \n",
    "    β0: Intercept (baseline value when all X = 0).\n",
    "    \n",
    "    β1, β2, ⋯ , βp: Coefficients (change in Y per unit change in each X).\n",
    "    \n",
    "    ϵ: Random error (residual)."
   ]
  },
  {
   "cell_type": "markdown",
   "id": "1a5b250e-5368-440b-a32a-1eee341b6fa2",
   "metadata": {},
   "source": [
    "## Question 5: What is polynomial regression, and how does it differ from linear regression?\n",
    "Polynomial Regression is a form of regression analysis that models the relationship between the independent variable (X) \n",
    "and the dependent variable (Y) as an n-th degree polynomial. \n",
    "Unlike linear regression, which assumes a straight-line relationship, polynomial regression can capture nonlinear patterns (curves) \n",
    "in the data.\n",
    "\n",
    "| Aspect                        | Linear Regression                                              | Polynomial Regression                                      |\n",
    "| ----------------------------- | -------------------------------------------------------------- | ---------------------------------------------------------- |\n",
    "| **Model form**                | $y = \\beta_0 + \\beta_1x$                                       | $y = \\beta_0 + \\beta_1x + \\beta_2x^2 + \\dots + \\beta_nx^n$ |\n",
    "| **Relationship**              | Models a straight-line (linear) relationship between variables | Models a curved (nonlinear) relationship                   |\n",
    "| **Flexibility**               | Limited to linear patterns                                     | Can capture more complex trends in the data                |\n",
    "| **Linearity in coefficients** | Linear                                                         | Still linear in coefficients (despite nonlinear in $x$)    |\n",
    "| **Overfitting risk**          | Lower                                                          | Higher with higher-degree polynomials                      |\n"
   ]
  },
  {
   "cell_type": "markdown",
   "id": "d675794b-6b6d-4b82-810e-ff6ccb85ead8",
   "metadata": {},
   "source": [
    "## Question 6: Implement a Python program to fit a Simple Linear Regression model to the following sample data:\n",
    "\n",
    "● X = [1, 2, 3, 4, 5]\n",
    "\n",
    "● Y = [2.1, 4.3, 6.1, 7.9, 10.2]\n",
    "\n",
    "Plot the regression line over the data points.\n"
   ]
  },
  {
   "cell_type": "code",
   "execution_count": 9,
   "id": "dccf38fe-a4ed-43d9-bc0b-3a1c31e4c5ce",
   "metadata": {},
   "outputs": [
    {
     "name": "stdout",
     "output_type": "stream",
     "text": [
      "Intercept (β₀): 0.18\n",
      "Slope (β₁): 1.98\n"
     ]
    },
    {
     "data": {
      "image/png": "[encoded data removed]",
      "text/plain": [
       "<Figure size 640x480 with 1 Axes>"
      ]
     },
     "metadata": {},
     "output_type": "display_data"
    }
   ],
   "source": [
    "import numpy as np\n",
    "import matplotlib.pyplot as plt\n",
    "from sklearn.linear_model import LinearRegression\n",
    "\n",
    "# Sample data\n",
    "X = [1, 2, 3, 4, 5]\n",
    "Y = [2.1, 4.3, 6.1, 7.9, 10.2]\n",
    "\n",
    "# Convert to NumPy arrays and reshape X\n",
    "X = np.array(X).reshape(-1, 1)\n",
    "Y = np.array(Y)\n",
    "\n",
    "# Create and fit the model\n",
    "model = LinearRegression()\n",
    "model.fit(X, Y)\n",
    "\n",
    "# Predict Y values\n",
    "Y_pred = model.predict(X)\n",
    "\n",
    "# Print the coefficients\n",
    "print(f\"Intercept (β₀): {model.intercept_:.2f}\")\n",
    "print(f\"Slope (β₁): {model.coef_[0]:.2f}\")\n",
    "\n",
    "# Plotting the data and the regression line\n",
    "plt.scatter(X, Y, color='blue', label='Data Points')\n",
    "plt.plot(X, Y_pred, color='red', label='Regression Line')\n",
    "plt.title(\"Simple Linear Regression\")\n",
    "plt.xlabel(\"X\")\n",
    "plt.ylabel(\"Y\")\n",
    "plt.legend()\n",
    "plt.grid(True)\n",
    "plt.show()\n"
   ]
  },
  {
   "cell_type": "markdown",
   "id": "58c55772-4501-41fb-b029-9db9a996b98b",
   "metadata": {},
   "source": [
    "## Question 7: Fit a Multiple Linear Regression model on this sample data:\n",
    "\n",
    "● Area = [1200, 1500, 1800, 2000]\n",
    "\n",
    "● Rooms = [2, 3, 3, 4]\n",
    "\n",
    "● Price = [250000, 300000, 320000, 370000]\n",
    "\n",
    "Check for multicollinearity using VIF and report the results.\n"
   ]
  },
  {
   "cell_type": "code",
   "execution_count": 14,
   "id": "798e2427-0673-47de-bd0c-a029b6c7d7ac",
   "metadata": {},
   "outputs": [],
   "source": [
    "import pandas as pd\n",
    "import numpy as np\n",
    "import statsmodels.api as sm\n",
    "from sklearn.linear_model import LinearRegression\n",
    "from statsmodels.stats.outliers_influence import variance_inflation_factor\n",
    "\n",
    "# Sample data\n",
    "data = {\n",
    "    'Area': [1200, 1500, 1800, 2000],\n",
    "    'Rooms': [2, 3, 3, 4],\n",
    "    'Price': [250000, 300000, 320000, 370000]\n",
    "}\n",
    "\n",
    "# Create DataFrame\n",
    "df = pd.DataFrame(data)\n",
    "\n",
    "# Features and target\n",
    "X = df[['Area', 'Rooms']]\n",
    "y = df['Price']\n"
   ]
  },
  {
   "cell_type": "code",
   "execution_count": 15,
   "id": "35c0359f-9345-4ba0-a21e-e3b9894fa844",
   "metadata": {},
   "outputs": [
    {
     "name": "stdout",
     "output_type": "stream",
     "text": [
      "Intercept (β₀): 103157.89473684214\n",
      "Coefficients (β₁, β₂): [   63.15789474 34736.84210526]\n"
     ]
    }
   ],
   "source": [
    "# Fit the model\n",
    "model = LinearRegression()\n",
    "model.fit(X, y)\n",
    "\n",
    "# Print coefficients\n",
    "print(\"Intercept (β₀):\", model.intercept_)\n",
    "print(\"Coefficients (β₁, β₂):\", model.coef_)\n"
   ]
  },
  {
   "cell_type": "code",
   "execution_count": 16,
   "id": "d314322b-6f28-4574-95d2-813595f7c5d3",
   "metadata": {},
   "outputs": [
    {
     "name": "stdout",
     "output_type": "stream",
     "text": [
      "\n",
      "Variance Inflation Factors:\n",
      "  Feature        VIF\n",
      "0   const  34.210526\n",
      "1    Area   7.736842\n",
      "2   Rooms   7.736842\n"
     ]
    }
   ],
   "source": [
    "# Add constant for statsmodels\n",
    "X_with_const = sm.add_constant(X)\n",
    "\n",
    "# Calculate VIF for each feature\n",
    "vif_data = pd.DataFrame()\n",
    "vif_data['Feature'] = X_with_const.columns\n",
    "vif_data['VIF'] = [variance_inflation_factor(X_with_const.values, i) \n",
    "                   for i in range(X_with_const.shape[1])]\n",
    "\n",
    "print(\"\\nVariance Inflation Factors:\")\n",
    "print(vif_data)\n"
   ]
  },
  {
   "cell_type": "markdown",
   "id": "3cc891cd-2c29-4c01-bfe2-ac40057b14ce",
   "metadata": {},
   "source": [
    "## Question 8: Implement polynomial regression on the following data:\n",
    "\n",
    "● X = [1, 2, 3, 4, 5]\n",
    " \n",
    "● Y = [2.2, 4.8, 7.5, 11.2, 14.7]\n",
    "\n",
    "Fit a 2nd-degree polynomial and plot the resulting curve"
   ]
  },
  {
   "cell_type": "code",
   "execution_count": 17,
   "id": "deec9e3f-3637-4577-b688-aaddae19699f",
   "metadata": {},
   "outputs": [
    {
     "name": "stdout",
     "output_type": "stream",
     "text": [
      "Intercept (β₀): 0.06000000000000938\n",
      "Coefficients (β₁, β₂): [1.94 0.2 ]\n"
     ]
    },
    {
     "data": {
      "image/png": "[encoded data removed]",
      "text/plain": [
       "<Figure size 640x480 with 1 Axes>"
      ]
     },
     "metadata": {},
     "output_type": "display_data"
    }
   ],
   "source": [
    "import numpy as np\n",
    "import matplotlib.pyplot as plt\n",
    "from sklearn.linear_model import LinearRegression\n",
    "from sklearn.preprocessing import PolynomialFeatures\n",
    "\n",
    "# Sample data\n",
    "X = np.array([1, 2, 3, 4, 5]).reshape(-1, 1)\n",
    "Y = np.array([2.2, 4.8, 7.5, 11.2, 14.7])\n",
    "\n",
    "# Create polynomial features (degree 2)\n",
    "poly = PolynomialFeatures(degree=2)\n",
    "X_poly = poly.fit_transform(X)\n",
    "\n",
    "# Fit the Polynomial Regression model\n",
    "model = LinearRegression()\n",
    "model.fit(X_poly, Y)\n",
    "\n",
    "# Predict using the model\n",
    "X_fit = np.linspace(1, 5, 100).reshape(-1, 1)  # More points for a smooth curve\n",
    "X_fit_poly = poly.transform(X_fit)\n",
    "Y_pred = model.predict(X_fit_poly)\n",
    "\n",
    "# Print coefficients\n",
    "print(\"Intercept (β₀):\", model.intercept_)\n",
    "print(\"Coefficients (β₁, β₂):\", model.coef_[1:])\n",
    "\n",
    "# Plot original data and fitted curve\n",
    "plt.scatter(X, Y, color='blue', label='Data Points')\n",
    "plt.plot(X_fit, Y_pred, color='red', label='Polynomial Curve (Degree 2)')\n",
    "plt.title(\"Polynomial Regression (2nd Degree)\")\n",
    "plt.xlabel(\"X\")\n",
    "plt.ylabel(\"Y\")\n",
    "plt.legend()\n",
    "plt.grid(True)\n",
    "plt.show()\n"
   ]
  },
  {
   "cell_type": "markdown",
   "id": "1e02e1f5-27e8-4aa6-9cf5-51ad827db9e5",
   "metadata": {},
   "source": [
    "## Question 9: Create a residuals plot for a regression model trained on this data:\n",
    "\n",
    "● X = [10, 20, 30, 40, 50]\n",
    "\n",
    "● Y = [15, 35, 40, 50, 65]\n",
    "\n",
    "Assess heteroscedasticity by examining the spread of residuals.\n"
   ]
  },
  {
   "cell_type": "code",
   "execution_count": 18,
   "id": "4805ee4e-3d0e-441d-ab45-103f7cbffeaa",
   "metadata": {},
   "outputs": [
    {
     "data": {
      "image/png": "[encoded data removed]",
      "text/plain": [
       "<Figure size 640x480 with 1 Axes>"
      ]
     },
     "metadata": {},
     "output_type": "display_data"
    }
   ],
   "source": [
    "import numpy as np\n",
    "import matplotlib.pyplot as plt\n",
    "from sklearn.linear_model import LinearRegression\n",
    "\n",
    "# Sample data\n",
    "X = np.array([10, 20, 30, 40, 50]).reshape(-1, 1)\n",
    "Y = np.array([15, 35, 40, 50, 65])\n",
    "\n",
    "# Fit linear regression model\n",
    "model = LinearRegression()\n",
    "model.fit(X, Y)\n",
    "\n",
    "# Predict values and compute residuals\n",
    "Y_pred = model.predict(X)\n",
    "residuals = Y - Y_pred\n",
    "\n",
    "# Plot residuals\n",
    "plt.scatter(Y_pred, residuals, color='purple')\n",
    "plt.axhline(y=0, color='black', linestyle='--')\n",
    "plt.title(\"Residuals Plot\")\n",
    "plt.xlabel(\"Predicted Values\")\n",
    "plt.ylabel(\"Residuals\")\n",
    "plt.grid(True)\n",
    "plt.show()"
   ]
  },
  {
   "cell_type": "markdown",
   "id": "57fe4d31-4255-4c4a-bd05-b235eea1a831",
   "metadata": {},
   "source": [
    "## Question 10: Imagine you are a data scientist working for a real estate company. You need to predict house prices using features like area, number of rooms, and location. However, you detect heteroscedasticity and multicollinearity in your regression model. Explain the steps you would take to address these issues and ensure a robust model.\n",
    "\n",
    "## Solution:\n",
    "To build a robust regression model for predicting house prices when facing heteroscedasticity and multicollinearity, you should systematically address both issues as follows:\n",
    "\n",
    "\n",
    "-----------------------------------\n",
    "1. Handling Heteroscedasticity\n",
    "   \n",
    "Heteroscedasticity means the variance of the error terms changes across levels of an independent variable, violating regression assumptions and leading to inefficient estimates and unreliable inference.\n",
    "\n",
    "Steps to Address Heteroscedasticity:\n",
    "* Residual Plot Inspection: Plot residuals versus fitted values. A funnel shape suggests heteroscedasticity.\n",
    "* Use Robust Standard Errors: Calculate robust (e.g., White’s or Huber-White) standard errors so that statistical inference remains valid despite heteroscedasticity.\n",
    "* Transform Variables: Apply a transformation (e.g., log, square root) to the dependent variable (e.g., predict log(price) instead of price), which often stabilizes variance.\n",
    "* Weighted Least Squares (WLS): Instead of ordinary least squares (OLS), use WLS where cases are weighted inversely to their error variance.\n",
    "\n",
    "\n",
    "-----------------------------------\n",
    "2. Handling Multicollinearity\n",
    "   \n",
    "Multicollinearity occurs when two or more predictor variables are highly correlated, which can inflate the variance of coefficient estimates and make interpretation unreliable.\n",
    "\n",
    "Steps to Address Multicollinearity:\n",
    "* Detect with VIF: Calculate the Variance Inflation Factor (VIF) for each predictor. A VIF >10 (or conservatively >5) indicates problematic multicollinearity.\n",
    "* Remove/Combine Predictors: If two variables are highly correlated, consider removing one or combining them into a new feature (e.g., total area from area and number of rooms).\n",
    "* Regularization Techniques: Use ridge regression or lasso regression, which add a penalty to the size of coefficients and address multicollinearity by shrinking them.\n",
    "* Principal Component Analysis (PCA): Apply PCA to extract uncorrelated components from your predictors and use these for regression.\n",
    "\n",
    "\n",
    "-----------------------------------\n",
    "3. General Modeling Best Practices\n",
    "   \n",
    "* Feature Engineering: Ensure variables are encoded meaningfully (e.g., one-hot encoding of categorical location).\n",
    "* Model Validation: Use cross-validation for robust performance estimates.\n",
    "* Assess Predictive Performance: Evaluate model performance using out-of-sample data and relevant metrics (e.g., RMSE, MAE).\n",
    "\n",
    "Summary Table:\n",
    "\n",
    "| **Issue**              | **Detection**                                          | **Solution(s)**                                                                                                             |\n",
    "| ---------------------- | ------------------------------------------------------ | --------------------------------------------------------------------------------------------------------------------------- |\n",
    "| **Heteroscedasticity** | Residual plot, statistical tests (e.g., Breusch–Pagan) | - Use robust standard errors<br>- Transform variables (e.g., log)<br>- Apply Weighted Least Squares (WLS)                   |\n",
    "| **Multicollinearity**  | Variance Inflation Factor (VIF), correlation matrix    | - Remove or combine correlated features<br>- Apply regularization (Ridge/Lasso)<br>- Use Principal Component Analysis (PCA) |\n"
   ]
  },
  {
   "cell_type": "code",
   "execution_count": null,
   "id": "3782eeb7-4387-4901-8c15-7ccf042d2a17",
   "metadata": {},
   "outputs": [],
   "source": []
  }
 ],
 "metadata": {
  "kernelspec": {
   "display_name": "Python 3 (ipykernel)",
   "language": "python",
   "name": "python3"
  },
  "language_info": {
   "codemirror_mode": {
    "name": "ipython",
    "version": 3
   },
   "file_extension": ".py",
   "mimetype": "text/x-python",
   "name": "python",
   "nbconvert_exporter": "python",
   "pygments_lexer": "ipython3",
   "version": "3.13.2"
  }
 },
 "nbformat": 4,
 "nbformat_minor": 5
}
